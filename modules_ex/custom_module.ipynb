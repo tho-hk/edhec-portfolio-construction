{
 "cells": [
  {
   "cell_type": "markdown",
   "id": "d04b24bc",
   "metadata": {},
   "source": [
    "# Building Modules\n",
    "\n"
   ]
  },
  {
   "cell_type": "code",
   "execution_count": null,
   "id": "e64e7440",
   "metadata": {},
   "outputs": [],
   "source": [
    "# Normally you import modules like this\n",
    "import pandas as pd"
   ]
  },
  {
   "cell_type": "code",
   "execution_count": 3,
   "id": "f2c6e5d7",
   "metadata": {},
   "outputs": [],
   "source": [
    "# now we try to create one for our own\n",
    "import hello as h"
   ]
  },
  {
   "cell_type": "code",
   "execution_count": null,
   "id": "fce5405a",
   "metadata": {},
   "outputs": [],
   "source": [
    "# now we can access a variable inside the hello.py\n",
    "h.message"
   ]
  }
 ],
 "metadata": {
  "kernelspec": {
   "display_name": "Python 3",
   "language": "python",
   "name": "python3"
  },
  "language_info": {
   "codemirror_mode": {
    "name": "ipython",
    "version": 3
   },
   "file_extension": ".py",
   "mimetype": "text/x-python",
   "name": "python",
   "nbconvert_exporter": "python",
   "pygments_lexer": "ipython3",
   "version": "3.12.0"
  }
 },
 "nbformat": 4,
 "nbformat_minor": 5
}
